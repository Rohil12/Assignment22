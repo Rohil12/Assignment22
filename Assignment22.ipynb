{
 "cells": [
  {
   "cell_type": "code",
   "execution_count": 3,
   "id": "fb1f6386-de83-4cdc-9af7-1df02df6f733",
   "metadata": {},
   "outputs": [
    {
     "name": "stdout",
     "output_type": "stream",
     "text": [
      "Requirement already satisfied: pandas in c:\\users\\rohil\\appdata\\local\\programs\\python\\python311\\lib\\site-packages (2.2.2)\n",
      "Requirement already satisfied: numpy>=1.23.2 in c:\\users\\rohil\\appdata\\local\\programs\\python\\python311\\lib\\site-packages (from pandas) (2.1.1)\n",
      "Requirement already satisfied: python-dateutil>=2.8.2 in c:\\users\\rohil\\appdata\\local\\programs\\python\\python311\\lib\\site-packages (from pandas) (2.9.0.post0)\n",
      "Requirement already satisfied: pytz>=2020.1 in c:\\users\\rohil\\appdata\\local\\programs\\python\\python311\\lib\\site-packages (from pandas) (2024.2)\n",
      "Requirement already satisfied: tzdata>=2022.7 in c:\\users\\rohil\\appdata\\local\\programs\\python\\python311\\lib\\site-packages (from pandas) (2024.1)\n",
      "Requirement already satisfied: six>=1.5 in c:\\users\\rohil\\appdata\\local\\programs\\python\\python311\\lib\\site-packages (from python-dateutil>=2.8.2->pandas) (1.16.0)\n",
      "Note: you may need to restart the kernel to use updated packages.\n"
     ]
    },
    {
     "name": "stderr",
     "output_type": "stream",
     "text": [
      "\n",
      "[notice] A new release of pip available: 22.3.1 -> 24.2\n",
      "[notice] To update, run: python.exe -m pip install --upgrade pip\n"
     ]
    }
   ],
   "source": [
    "pip install pandas"
   ]
  },
  {
   "cell_type": "code",
   "execution_count": 4,
   "id": "cf8a5fe5-bd07-47e3-b419-6fc47662be71",
   "metadata": {},
   "outputs": [
    {
     "name": "stdout",
     "output_type": "stream",
     "text": [
      "course_name    Machine Learning\n",
      "duration                      3\n",
      "Name: 1, dtype: object\n"
     ]
    }
   ],
   "source": [
    "#Q.1\n",
    "import pandas as pd\n",
    "\n",
    "course_name = ['Data Science', 'Machine Learning', 'Big Data', 'Data Engineer']\n",
    "duration = [2, 3, 6, 4]\n",
    "df = pd.DataFrame(data={'course_name': course_name, 'duration': duration})\n",
    "\n",
    "# Print the data present in the second row\n",
    "second_row = df.iloc[1]\n",
    "print(second_row)\n"
   ]
  },
  {
   "cell_type": "code",
   "execution_count": 5,
   "id": "940c453a-a2b1-4201-bd9d-21f59a1af21d",
   "metadata": {},
   "outputs": [
    {
     "data": {
      "text/plain": [
       "'iloc (Integer position-based indexing)\\nPurpose: Access rows and columns by their integer positions (index numbers).\\nUsage: You specify the row and column positions you want to access.\\nInclusion: It excludes the endpoint of the range you specify.\\nExample: If you want to access the first two rows and the first column by their positions, you would use:\\nPython\\n\\ndf.iloc[0:2, 0]'"
      ]
     },
     "execution_count": 5,
     "metadata": {},
     "output_type": "execute_result"
    }
   ],
   "source": [
    "#Q.2\n",
    "\"\"\"loc(Label-based indexing)\n",
    "Purpose: Access rows and columns by their labels (names).\n",
    "Usage: You specify the row and column labels you want to access.\n",
    "Inclusion: It includes the endpoint of the range you specify.\n",
    "Example: If you have a DataFrame df and you want to access rows with labels 1 to 2 and the column ‘course_name’, you would use:\n",
    "Python\n",
    "\n",
    "df.loc[1:2, 'course_name']\"\"\"\n",
    "\n",
    "\"\"\"iloc (Integer position-based indexing)\n",
    "Purpose: Access rows and columns by their integer positions (index numbers).\n",
    "Usage: You specify the row and column positions you want to access.\n",
    "Inclusion: It excludes the endpoint of the range you specify.\n",
    "Example: If you want to access the first two rows and the first column by their positions, you would use:\n",
    "Python\n",
    "\n",
    "df.iloc[0:2, 0]\"\"\""
   ]
  },
  {
   "cell_type": "code",
   "execution_count": 6,
   "id": "b2a0a82b-5640-44e3-a025-79a9f1e49c68",
   "metadata": {},
   "outputs": [],
   "source": [
    "#Q.3\n",
    "import pandas as pd\n",
    "import numpy as np\n",
    "\n",
    "columns = ['column_1', 'column_2', 'column_3', 'column_4', 'column_5', 'column_6']\n",
    "indices = [1, 2, 3, 4, 5, 6]\n",
    "df1 = pd.DataFrame(np.random.rand(6, 6), columns=columns, index=indices)\n",
    "\n",
    "# Reindexing the DataFrame\n",
    "reindex = [3, 0, 1, 2]\n",
    "new_df = df1.reindex(reindex)\n",
    "\n"
   ]
  },
  {
   "cell_type": "code",
   "execution_count": 7,
   "id": "c50db794-b2f5-4cfc-a53e-f1aee5f8f4fd",
   "metadata": {},
   "outputs": [
    {
     "name": "stdout",
     "output_type": "stream",
     "text": [
      "Output using loc:\n",
      " column_1    0.212915\n",
      "column_2    0.447280\n",
      "column_3    0.812232\n",
      "column_4    0.771410\n",
      "column_5    0.050216\n",
      "column_6    0.206334\n",
      "Name: 2, dtype: float64\n",
      "Output using iloc:\n",
      " column_1    0.656953\n",
      "column_2    0.408842\n",
      "column_3    0.841130\n",
      "column_4    0.170740\n",
      "column_5    0.263233\n",
      "column_6    0.374054\n",
      "Name: 1, dtype: float64\n"
     ]
    }
   ],
   "source": [
    "# Using loc to access the row with label 2\n",
    "loc_output = new_df.loc[2]\n",
    "print(\"Output using loc:\\n\", loc_output)\n",
    "\n",
    "# Using iloc to access the row at position 2\n",
    "iloc_output = new_df.iloc[2]\n",
    "print(\"Output using iloc:\\n\", iloc_output)\n"
   ]
  },
  {
   "cell_type": "code",
   "execution_count": 8,
   "id": "d866a5b5-d57a-4c44-8f3e-fc09675b830e",
   "metadata": {},
   "outputs": [
    {
     "data": {
      "text/plain": [
       "column_1    0.386130\n",
       "column_2    0.283870\n",
       "column_3    0.682436\n",
       "column_4    0.483689\n",
       "column_5    0.378526\n",
       "column_6    0.608196\n",
       "dtype: float64"
      ]
     },
     "execution_count": 8,
     "metadata": {},
     "output_type": "execute_result"
    }
   ],
   "source": [
    "#Q.4\n",
    "df1.mean()"
   ]
  },
  {
   "cell_type": "code",
   "execution_count": 9,
   "id": "79bec6da-1f14-4b6f-a1b9-931ccb5edc60",
   "metadata": {},
   "outputs": [
    {
     "data": {
      "text/plain": [
       "np.float64(0.14919484605057184)"
      ]
     },
     "execution_count": 9,
     "metadata": {},
     "output_type": "execute_result"
    }
   ],
   "source": [
    "df1['column_2'].std()"
   ]
  },
  {
   "cell_type": "code",
   "execution_count": 10,
   "id": "8b38c375-8901-4db9-a1b1-d269b0aee276",
   "metadata": {},
   "outputs": [
    {
     "name": "stdout",
     "output_type": "stream",
     "text": [
      "Error: unsupported operand type(s) for +: 'float' and 'str'\n"
     ]
    },
    {
     "name": "stderr",
     "output_type": "stream",
     "text": [
      "C:\\Users\\Rohil\\AppData\\Local\\Temp\\ipykernel_5496\\1263356575.py:3: FutureWarning: Setting an item of incompatible dtype is deprecated and will raise an error in a future version of pandas. Value 'string_value' has dtype incompatible with float64, please explicitly cast to a compatible dtype first.\n",
      "  df1.loc[2, 'column_2'] = 'string_value'\n"
     ]
    },
    {
     "data": {
      "text/plain": [
       "'This error occurs because the presence of a non-numeric value in the column prevents the calculation of the mean, which requires all values to be numeric. If you need to handle such cases, you can either remove or ignore non-numeric values before performing the calculation.'"
      ]
     },
     "execution_count": 10,
     "metadata": {},
     "output_type": "execute_result"
    }
   ],
   "source": [
    "# Q.5\n",
    "# Replacing the data in the second row of 'column_2' with a string\n",
    "df1.loc[2, 'column_2'] = 'string_value'\n",
    "\n",
    "# Trying to calculate the mean of 'column_2'\n",
    "try:\n",
    "    mean_column_2 = df1['column_2'].mean()\n",
    "    print(\"Mean of column_2:\", mean_column_2)\n",
    "except Exception as e:\n",
    "    print(\"Error:\", e)\n",
    "\n",
    "\"\"\"This error occurs because the presence of a non-numeric value in the column prevents the calculation of the mean, which requires all values to be numeric. If you need to handle such cases, you can either remove or ignore non-numeric values before performing the calculation.\"\"\""
   ]
  },
  {
   "cell_type": "code",
   "execution_count": 11,
   "id": "f622332b-5c61-473a-b16b-884a058e7ed6",
   "metadata": {},
   "outputs": [
    {
     "data": {
      "text/html": [
       "<div>\n",
       "<style scoped>\n",
       "    .dataframe tbody tr th:only-of-type {\n",
       "        vertical-align: middle;\n",
       "    }\n",
       "\n",
       "    .dataframe tbody tr th {\n",
       "        vertical-align: top;\n",
       "    }\n",
       "\n",
       "    .dataframe thead th {\n",
       "        text-align: right;\n",
       "    }\n",
       "</style>\n",
       "<table border=\"1\" class=\"dataframe\">\n",
       "  <thead>\n",
       "    <tr style=\"text-align: right;\">\n",
       "      <th></th>\n",
       "      <th>column_1</th>\n",
       "      <th>column_2</th>\n",
       "      <th>column_3</th>\n",
       "      <th>column_4</th>\n",
       "      <th>column_5</th>\n",
       "      <th>column_6</th>\n",
       "    </tr>\n",
       "  </thead>\n",
       "  <tbody>\n",
       "    <tr>\n",
       "      <th>1</th>\n",
       "      <td>0.656953</td>\n",
       "      <td>0.408842</td>\n",
       "      <td>0.841130</td>\n",
       "      <td>0.170740</td>\n",
       "      <td>0.263233</td>\n",
       "      <td>0.374054</td>\n",
       "    </tr>\n",
       "    <tr>\n",
       "      <th>2</th>\n",
       "      <td>0.212915</td>\n",
       "      <td>string_value</td>\n",
       "      <td>0.812232</td>\n",
       "      <td>0.771410</td>\n",
       "      <td>0.050216</td>\n",
       "      <td>0.206334</td>\n",
       "    </tr>\n",
       "    <tr>\n",
       "      <th>3</th>\n",
       "      <td>0.442379</td>\n",
       "      <td>0.301167</td>\n",
       "      <td>0.705748</td>\n",
       "      <td>0.425832</td>\n",
       "      <td>0.677158</td>\n",
       "      <td>0.980024</td>\n",
       "    </tr>\n",
       "    <tr>\n",
       "      <th>4</th>\n",
       "      <td>0.189011</td>\n",
       "      <td>0.037992</td>\n",
       "      <td>0.393091</td>\n",
       "      <td>0.810561</td>\n",
       "      <td>0.274030</td>\n",
       "      <td>0.615580</td>\n",
       "    </tr>\n",
       "    <tr>\n",
       "      <th>5</th>\n",
       "      <td>0.308919</td>\n",
       "      <td>0.310675</td>\n",
       "      <td>0.673529</td>\n",
       "      <td>0.493311</td>\n",
       "      <td>0.096742</td>\n",
       "      <td>0.907838</td>\n",
       "    </tr>\n",
       "    <tr>\n",
       "      <th>6</th>\n",
       "      <td>0.506604</td>\n",
       "      <td>0.197263</td>\n",
       "      <td>0.668883</td>\n",
       "      <td>0.230280</td>\n",
       "      <td>0.909780</td>\n",
       "      <td>0.565348</td>\n",
       "    </tr>\n",
       "  </tbody>\n",
       "</table>\n",
       "</div>"
      ],
      "text/plain": [
       "   column_1      column_2  column_3  column_4  column_5  column_6\n",
       "1  0.656953      0.408842  0.841130  0.170740  0.263233  0.374054\n",
       "2  0.212915  string_value  0.812232  0.771410  0.050216  0.206334\n",
       "3  0.442379      0.301167  0.705748  0.425832  0.677158  0.980024\n",
       "4  0.189011      0.037992  0.393091  0.810561  0.274030  0.615580\n",
       "5  0.308919      0.310675  0.673529  0.493311  0.096742  0.907838\n",
       "6  0.506604      0.197263  0.668883  0.230280  0.909780  0.565348"
      ]
     },
     "execution_count": 11,
     "metadata": {},
     "output_type": "execute_result"
    }
   ],
   "source": [
    "df1"
   ]
  },
  {
   "cell_type": "code",
   "execution_count": 12,
   "id": "98a31f2a-0c85-4bb3-b2f4-121a7cd7898e",
   "metadata": {},
   "outputs": [
    {
     "data": {
      "text/plain": [
       "\"In Pandas, window functions are used to perform operations over a sliding window of data points. These functions are particularly useful for time series data analysis, rolling statistics, and other analytical tasks that require computations over a specified range of data.\\n\\nTypes of Window Functions in Pandas\\nRolling Window:\\nDescription: Applies a fixed-size window that slides over the data, performing calculations on each subset of data points within the window.\\nExample: Calculating a rolling mean or sum.\\nUsage: df['column'].rolling(window=3).mean()\\nExpanding Window:\\nDescription: Expands the window size from the beginning of the data up to the current point, accumulating more data points as it progresses.\\nExample: Calculating a cumulative sum or mean.\\nUsage: df['column'].expanding().sum()\\nExponentially Weighted Window (EWM):\\nDescription: Applies an exponentially decreasing weight to past observations, giving more importance to recent data points.\\nExample: Calculating an exponentially weighted moving average.\\nUsage: df['column'].ewm(span=3).mean()\\nWeighted Window:\\nDescription: Uses a weighted, non-rectangular window supplied by the scipy.signal library.\\nExample: Applying custom weights to a rolling window.\\nUsage: df['column'].rolling(window=3, win_type='triang').sum()\\nThese window functions allow for flexible and efficient data manipulation, making them powerful tools for data analysis in Pandas.\""
      ]
     },
     "execution_count": 12,
     "metadata": {},
     "output_type": "execute_result"
    }
   ],
   "source": [
    "#Q.6\n",
    "\"\"\"In Pandas, window functions are used to perform operations over a sliding window of data points. These functions are particularly useful for time series data analysis, rolling statistics, and other analytical tasks that require computations over a specified range of data.\n",
    "\n",
    "Types of Window Functions in Pandas\n",
    "Rolling Window:\n",
    "Description: Applies a fixed-size window that slides over the data, performing calculations on each subset of data points within the window.\n",
    "Example: Calculating a rolling mean or sum.\n",
    "Usage: df['column'].rolling(window=3).mean()\n",
    "Expanding Window:\n",
    "Description: Expands the window size from the beginning of the data up to the current point, accumulating more data points as it progresses.\n",
    "Example: Calculating a cumulative sum or mean.\n",
    "Usage: df['column'].expanding().sum()\n",
    "Exponentially Weighted Window (EWM):\n",
    "Description: Applies an exponentially decreasing weight to past observations, giving more importance to recent data points.\n",
    "Example: Calculating an exponentially weighted moving average.\n",
    "Usage: df['column'].ewm(span=3).mean()\n",
    "Weighted Window:\n",
    "Description: Uses a weighted, non-rectangular window supplied by the scipy.signal library.\n",
    "Example: Applying custom weights to a rolling window.\n",
    "Usage: df['column'].rolling(window=3, win_type='triang').sum()\n",
    "These window functions allow for flexible and efficient data manipulation, making them powerful tools for data analysis in Pandas.\"\"\""
   ]
  },
  {
   "cell_type": "code",
   "execution_count": 13,
   "id": "87e6848d-fc4d-420f-bd6c-de625ed51ee4",
   "metadata": {},
   "outputs": [
    {
     "name": "stdout",
     "output_type": "stream",
     "text": [
      "Current Month: 9, Current Year: 2024\n"
     ]
    }
   ],
   "source": [
    "#Q.7\n",
    "import pandas as pd\n",
    "\n",
    "# Get the current date and time\n",
    "current_date = pd.to_datetime('now')\n",
    "\n",
    "# Extract the current month and year\n",
    "current_month = current_date.month\n",
    "current_year = current_date.year\n",
    "\n",
    "print(f\"Current Month: {current_month}, Current Year: {current_year}\")\n"
   ]
  },
  {
   "cell_type": "code",
   "execution_count": 14,
   "id": "c7d06bec-811f-4c53-a8b3-81934ed6af04",
   "metadata": {},
   "outputs": [
    {
     "name": "stdin",
     "output_type": "stream",
     "text": [
      "Enter the start date (YYYY-MM-DD):  2001-4-4\n",
      "Enter the end date (YYYY-MM-DD):  1995-7-8\n"
     ]
    },
    {
     "name": "stdout",
     "output_type": "stream",
     "text": [
      "Difference: -2097 days, 0 hours, and 0 minutes\n"
     ]
    }
   ],
   "source": [
    "#Q.8\n",
    "import pandas as pd\n",
    "\n",
    "# Function to calculate the difference between two dates\n",
    "def calculate_date_difference(start_date, end_date):\n",
    "    # Convert the input strings to datetime objects\n",
    "    start_date = pd.to_datetime(start_date)\n",
    "    end_date = pd.to_datetime(end_date)\n",
    "    \n",
    "    # Calculate the difference\n",
    "    difference = end_date - start_date\n",
    "    \n",
    "    # Extract days, hours, and minutes from the difference\n",
    "    days = difference.days\n",
    "    hours, remainder = divmod(difference.seconds, 3600)\n",
    "    minutes, _ = divmod(remainder, 60)\n",
    "    \n",
    "    return days, hours, minutes\n",
    "\n",
    "# Prompt the user to enter the dates\n",
    "start_date = input(\"Enter the start date (YYYY-MM-DD): \")\n",
    "end_date = input(\"Enter the end date (YYYY-MM-DD): \")\n",
    "\n",
    "# Calculate the difference\n",
    "days, hours, minutes = calculate_date_difference(start_date, end_date)\n",
    "\n",
    "# Display the result\n",
    "print(f\"Difference: {days} days, {hours} hours, and {minutes} minutes\")\n"
   ]
  },
  {
   "cell_type": "code",
   "execution_count": 15,
   "id": "0b68eb0e-ef95-4644-9489-a9569f61cd2d",
   "metadata": {},
   "outputs": [
    {
     "name": "stdout",
     "output_type": "stream",
     "text": [
      "CSV file 'sample_data.csv' has been created successfully.\n"
     ]
    }
   ],
   "source": [
    "import pandas as pd\n",
    "\n",
    "# Sample data\n",
    "data = {\n",
    "    'Name': ['Alice', 'Bob', 'Charlie', 'David'],\n",
    "    'Age': [25, 30, 35, 40],\n",
    "    'City': ['New York', 'Los Angeles', 'Chicago', 'Houston']\n",
    "}\n",
    "\n",
    "# Create a DataFrame\n",
    "df = pd.DataFrame(data)\n",
    "\n",
    "# Specify the file path to save the data\n",
    "csv_file_path = 'sample_data.csv'\n",
    "\n",
    "# Write the DataFrame to a CSV file\n",
    "df.to_csv(csv_file_path, index=False)\n",
    "\n",
    "print(f\"CSV file '{csv_file_path}' has been created successfully.\")\n"
   ]
  },
  {
   "cell_type": "code",
   "execution_count": 29,
   "id": "b53a21c7-908d-4eb9-8b19-8a0c5486b4f8",
   "metadata": {},
   "outputs": [
    {
     "name": "stdin",
     "output_type": "stream",
     "text": [
      "Enter the file path:  sample_data.csv\n",
      "Enter the column name to convert to categorical:  City\n",
      "Enter the category order (comma-separated):  seperated\n"
     ]
    },
    {
     "name": "stdout",
     "output_type": "stream",
     "text": [
      "Sorted Data:\n",
      "      Name  Age City\n",
      "0    Alice   25  NaN\n",
      "1      Bob   30  NaN\n",
      "2  Charlie   35  NaN\n",
      "3    David   40  NaN\n"
     ]
    }
   ],
   "source": [
    "#Q.9\n",
    "import pandas as pd\n",
    "\n",
    "# Function to convert a column to categorical and sort the data\n",
    "def convert_to_categorical(file_path, column_name, category_order):\n",
    "    # Read the CSV file\n",
    "    df = pd.read_csv(file_path)\n",
    "    \n",
    "    # Convert the specified column to categorical with the given order\n",
    "    df[column_name] = pd.Categorical(df[column_name], categories=category_order, ordered=True)\n",
    "    \n",
    "    # Sort the DataFrame by the categorical column\n",
    "    df_sorted = df.sort_values(by=column_name)\n",
    "    \n",
    "    return df_sorted\n",
    "\n",
    "# Prompt the user to enter the file path, column name, and category order\n",
    "file_path = input(\"Enter the file path: \")\n",
    "column_name = input(\"Enter the column name to convert to categorical: \")\n",
    "category_order = input(\"Enter the category order (comma-separated): \").split(',')\n",
    "\n",
    "# Convert the column to categorical and sort the data\n",
    "sorted_data = convert_to_categorical(file_path, column_name, category_order)\n",
    "\n",
    "# Display the sorted data\n",
    "print(\"Sorted Data:\")\n",
    "print(sorted_data)"
   ]
  },
  {
   "cell_type": "code",
   "execution_count": 31,
   "id": "e673f857-bfe2-4996-ba0d-605469610d57",
   "metadata": {},
   "outputs": [
    {
     "name": "stdout",
     "output_type": "stream",
     "text": [
      "CSV file '1sales_data.csv' has been created successfully.\n"
     ]
    }
   ],
   "source": [
    "import pandas as pd\n",
    "\n",
    "# Sample sales data\n",
    "data = {\n",
    "    'Date': ['2024-01-01', '2024-01-01', '2024-01-02', '2024-01-02', '2024-01-03', '2024-01-03'],\n",
    "    'Product': ['Product A', 'Product B', 'Product A', 'Product B', 'Product A', 'Product B'],\n",
    "    'Sales': [100, 150, 200, 100, 300, 250]\n",
    "}\n",
    "\n",
    "# Create a DataFrame\n",
    "df = pd.DataFrame(data)\n",
    "\n",
    "# Specify the file path to save the data\n",
    "csv_file_path = '1sales_data.csv'\n",
    "\n",
    "# Write the DataFrame to a CSV file\n",
    "df.to_csv(csv_file_path, index=False)\n",
    "\n",
    "print(f\"CSV file '{csv_file_path}' has been created successfully.\")\n"
   ]
  },
  {
   "cell_type": "code",
   "execution_count": 43,
   "id": "b8c994af-1d41-4a58-a883-fee4c47b08b1",
   "metadata": {},
   "outputs": [
    {
     "name": "stdin",
     "output_type": "stream",
     "text": [
      "Enter the file path:  1sales_data.csv\n"
     ]
    },
    {
     "data": {
      "image/png": "[encoded data removed]",
      "text/plain": [
       "<Figure size 1000x700 with 1 Axes>"
      ]
     },
     "metadata": {},
     "output_type": "display_data"
    }
   ],
   "source": [
    "#Q.10\n",
    "import pandas as pd\n",
    "import matplotlib.pyplot as plt\n",
    "\n",
    "def plot_stacked_bar_chart(file_path):\n",
    "    # Read the CSV file\n",
    "    df = pd.read_csv(file_path)\n",
    "    \n",
    "    # Ensure the data is in the correct format\n",
    "    # Assuming the CSV has columns: 'Date', 'Product', 'Sales'\n",
    "    df['Date'] = pd.to_datetime(df['Date'])\n",
    "    \n",
    "    # Pivot the data to get sales per product per date\n",
    "    pivot_df = df.pivot_table(values='Sales', index='Date', columns='Product', aggfunc='sum', fill_value=0)\n",
    "    \n",
    "    # Plot the stacked bar chart\n",
    "    pivot_df.plot(kind='bar', stacked=True, figsize=(10, 7))\n",
    "    \n",
    "    # Add title and labels\n",
    "    plt.title('Sales of Each Product Category Over Time')\n",
    "    plt.xlabel('Date')\n",
    "    plt.ylabel('Sales')\n",
    "    \n",
    "    # Display the legend\n",
    "    plt.legend(title='Product')\n",
    "    \n",
    "    # Show the plot\n",
    "    plt.show()\n",
    "\n",
    "# Prompt the user to enter the file path\n",
    "file_path = input(\"Enter the file path: \")\n",
    "\n",
    "# Plot the stacked bar chart\n",
    "plot_stacked_bar_chart(file_path)\n"
   ]
  },
  {
   "cell_type": "code",
   "execution_count": 40,
   "id": "c7459ac1-4c15-48c3-8fd0-f2581c77e925",
   "metadata": {},
   "outputs": [
    {
     "name": "stdout",
     "output_type": "stream",
     "text": [
      "Requirement already satisfied: matplotlib in c:\\users\\rohil\\appdata\\local\\programs\\python\\python311\\lib\\site-packages (3.9.2)\n",
      "Requirement already satisfied: contourpy>=1.0.1 in c:\\users\\rohil\\appdata\\local\\programs\\python\\python311\\lib\\site-packages (from matplotlib) (1.3.0)\n",
      "Requirement already satisfied: cycler>=0.10 in c:\\users\\rohil\\appdata\\local\\programs\\python\\python311\\lib\\site-packages (from matplotlib) (0.12.1)\n",
      "Requirement already satisfied: fonttools>=4.22.0 in c:\\users\\rohil\\appdata\\local\\programs\\python\\python311\\lib\\site-packages (from matplotlib) (4.53.1)\n",
      "Requirement already satisfied: kiwisolver>=1.3.1 in c:\\users\\rohil\\appdata\\local\\programs\\python\\python311\\lib\\site-packages (from matplotlib) (1.4.7)\n",
      "Requirement already satisfied: numpy>=1.23 in c:\\users\\rohil\\appdata\\local\\programs\\python\\python311\\lib\\site-packages (from matplotlib) (2.1.1)\n",
      "Requirement already satisfied: packaging>=20.0 in c:\\users\\rohil\\appdata\\local\\programs\\python\\python311\\lib\\site-packages (from matplotlib) (24.1)\n",
      "Requirement already satisfied: pillow>=8 in c:\\users\\rohil\\appdata\\local\\programs\\python\\python311\\lib\\site-packages (from matplotlib) (10.4.0)\n",
      "Requirement already satisfied: pyparsing>=2.3.1 in c:\\users\\rohil\\appdata\\local\\programs\\python\\python311\\lib\\site-packages (from matplotlib) (3.1.4)\n",
      "Requirement already satisfied: python-dateutil>=2.7 in c:\\users\\rohil\\appdata\\local\\programs\\python\\python311\\lib\\site-packages (from matplotlib) (2.9.0.post0)\n",
      "Requirement already satisfied: six>=1.5 in c:\\users\\rohil\\appdata\\local\\programs\\python\\python311\\lib\\site-packages (from python-dateutil>=2.7->matplotlib) (1.16.0)\n"
     ]
    },
    {
     "name": "stderr",
     "output_type": "stream",
     "text": [
      "\n",
      "[notice] A new release of pip available: 22.3.1 -> 24.2\n",
      "[notice] To update, run: python.exe -m pip install --upgrade pip\n"
     ]
    }
   ],
   "source": [
    "!pip install matplotlib\n"
   ]
  },
  {
   "cell_type": "code",
   "execution_count": 44,
   "id": "d5c063af-96c5-40f0-a550-41e1161f2547",
   "metadata": {},
   "outputs": [
    {
     "name": "stdout",
     "output_type": "stream",
     "text": [
      "CSV file 'student_data.csv' created successfully!\n"
     ]
    }
   ],
   "source": [
    "import pandas as pd\n",
    "\n",
    "# Create a dictionary with the data\n",
    "data = {\n",
    "    'Student ID': [1, 2, 3, 4, 5, 6, 7, 8, 9, 10],\n",
    "    'Test Score': [85, 90, 80, 75, 85, 82, 78, 85, 90, 85]\n",
    "}\n",
    "\n",
    "# Convert the dictionary into a DataFrame\n",
    "df = pd.DataFrame(data)\n",
    "\n",
    "# Save the DataFrame to a CSV file\n",
    "df.to_csv('student_data.csv', index=False)\n",
    "\n",
    "print(\"CSV file 'student_data.csv' created successfully!\")\n"
   ]
  },
  {
   "cell_type": "code",
   "execution_count": 46,
   "id": "fe12c7b9-f65b-4480-99ac-1001d0c743ca",
   "metadata": {},
   "outputs": [
    {
     "name": "stdin",
     "output_type": "stream",
     "text": [
      "Enter the file path of the CSV file containing the student data:  student_data.csv\n"
     ]
    },
    {
     "name": "stdout",
     "output_type": "stream",
     "text": [
      "+-----------+--------+\n",
      "| Statistic | Value  |\n",
      "+-----------+--------+\n",
      "| Mean      | 83.5  |\n",
      "| Median    | 85.0  |\n",
      "| Mode      | 85 |\n",
      "+-----------+--------+\n"
     ]
    }
   ],
   "source": [
    "# Q.11\n",
    "import pandas as pd\n",
    "from statistics import mode\n",
    "\n",
    "# Prompt the user to enter the file path of the CSV file\n",
    "file_path = input(\"Enter the file path of the CSV file containing the student data: \")\n",
    "\n",
    "# Read the CSV file into a Pandas DataFrame\n",
    "df = pd.read_csv(file_path)\n",
    "\n",
    "# Calculate the mean, median, and mode of the test scores\n",
    "mean_score = df['Test Score'].mean()\n",
    "median_score = df['Test Score'].median()\n",
    "mode_score = df['Test Score'].mode().tolist()\n",
    "\n",
    "# Display the results in a table\n",
    "print(\"+-----------+--------+\")\n",
    "print(\"| Statistic | Value  |\")\n",
    "print(\"+-----------+--------+\")\n",
    "print(f\"| Mean      | {mean_score:.1f}  |\")\n",
    "print(f\"| Median    | {median_score:.1f}  |\")\n",
    "print(f\"| Mode      | {', '.join(map(str, mode_score))} |\")\n",
    "print(\"+-----------+--------+\")\n"
   ]
  },
  {
   "cell_type": "code",
   "execution_count": null,
   "id": "2f0322de-ecbd-43f5-b9d5-004337be2250",
   "metadata": {},
   "outputs": [],
   "source": []
  }
 ],
 "metadata": {
  "kernelspec": {
   "display_name": "Python 3 (ipykernel)",
   "language": "python",
   "name": "python3"
  },
  "language_info": {
   "codemirror_mode": {
    "name": "ipython",
    "version": 3
   },
   "file_extension": ".py",
   "mimetype": "text/x-python",
   "name": "python",
   "nbconvert_exporter": "python",
   "pygments_lexer": "ipython3",
   "version": "3.11.3"
  }
 },
 "nbformat": 4,
 "nbformat_minor": 5
}
